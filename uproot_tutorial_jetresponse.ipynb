{
 "cells": [
  {
   "cell_type": "markdown",
   "metadata": {},
   "source": [
    "# Plot the jet $p_T$ response as a function of gen jet $p_T$"
   ]
  },
  {
   "cell_type": "code",
   "execution_count": 1,
   "metadata": {},
   "outputs": [],
   "source": [
    "import uproot\n",
    "import uproot_methods\n",
    "import awkward\n",
    "import matplotlib.pyplot as plt\n",
    "import numpy as np\n",
    "import time\n"
   ]
  },
  {
   "cell_type": "code",
   "execution_count": 2,
   "metadata": {},
   "outputs": [],
   "source": [
    "files = [\n",
    "#'9D0F80E3-0098-6E49-95D0-DB32523E776B.root'\n",
    "'root://cmsxrootd.fnal.gov://store/mc/RunIIFall17NanoAODv4/QCD_Pt-15to7000_TuneCP5_Flat_13TeV_pythia8/NANOAODSIM/PU2017_12Apr2018_Nano14Dec2018_102X_mc2017_realistic_v6-v1/10000/9D0F80E3-0098-6E49-95D0-DB32523E776B.root',\n",
    "#'root://cmsxrootd.fnal.gov://store/mc/RunIIFall17NanoAODv4/QCD_Pt-15to7000_TuneCP5_Flat_13TeV_pythia8/NANOAODSIM/PU2017_12Apr2018_Nano14Dec2018_102X_mc2017_realistic_v6-v1/10000/DE7F4471-DAA5-D743-9622-689BCAAD9734.root',\n",
    "#'root://cmsxrootd.fnal.gov://store/mc/RunIIFall17NanoAODv4/QCD_Pt-15to7000_TuneCP5_Flat_13TeV_pythia8/NANOAODSIM/PU2017_12Apr2018_Nano14Dec2018_102X_mc2017_realistic_v6-v1/10000/5E6977DD-34BE-A34F-805D-CE43A9F569F2.root',\n",
    "#'root://cmsxrootd.fnal.gov://store/mc/RunIIFall17NanoAODv4/QCD_Pt-15to7000_TuneCP5_Flat_13TeV_pythia8/NANOAODSIM/PU2017_12Apr2018_Nano14Dec2018_102X_mc2017_realistic_v6-v1/10000/86087F2B-6029-5542-88CF-AA5B894C0D33.root',\n",
    "#'root://cmsxrootd.fnal.gov://store/mc/RunIIFall17NanoAODv4/QCD_Pt-15to7000_TuneCP5_Flat_13TeV_pythia8/NANOAODSIM/PU2017_12Apr2018_Nano14Dec2018_102X_mc2017_realistic_v6-v1/10000/019778D1-7269-3D42-8D91-74A99B71E22F.root',\n",
    "#'root://cmsxrootd.fnal.gov://store/mc/RunIIFall17NanoAODv4/QCD_Pt-15to7000_TuneCP5_Flat_13TeV_pythia8/NANOAODSIM/PU2017_12Apr2018_Nano14Dec2018_102X_mc2017_realistic_v6-v1/10000/B10C3DE9-2178-E04E-909C-E91DCECE3185.root',\n",
    "#'root://cmsxrootd.fnal.gov://store/mc/RunIIFall17NanoAODv4/QCD_Pt-15to7000_TuneCP5_Flat_13TeV_pythia8/NANOAODSIM/PU2017_12Apr2018_Nano14Dec2018_102X_mc2017_realistic_v6-v1/10000/B28E22BC-C1BB-C04C-BD1A-FA0A930DDFAA.root',\n",
    "#'root://cmsxrootd.fnal.gov://store/mc/RunIIFall17NanoAODv4/QCD_Pt-15to7000_TuneCP5_Flat_13TeV_pythia8/NANOAODSIM/PU2017_12Apr2018_Nano14Dec2018_102X_mc2017_realistic_v6-v1/10000/ABA48E6B-F147-D340-A38F-BCF61E1DA7C0.root',\n",
    "#'root://cmsxrootd.fnal.gov://store/mc/RunIIFall17NanoAODv4/QCD_Pt-15to7000_TuneCP5_Flat_13TeV_pythia8/NANOAODSIM/PU2017_12Apr2018_Nano14Dec2018_102X_mc2017_realistic_v6-v1/10000/1BFDC330-F543-104B-9238-D81833427A0F.root',\n",
    "#'root://cmsxrootd.fnal.gov://store/mc/RunIIFall17NanoAODv4/QCD_Pt-15to7000_TuneCP5_Flat_13TeV_pythia8/NANOAODSIM/PU2017_12Apr2018_Nano14Dec2018_102X_mc2017_realistic_v6-v1/10000/B433E425-6A52-6647-91F6-849F6A076C3D.root',\n",
    "#'root://cmsxrootd.fnal.gov://store/mc/RunIIFall17NanoAODv4/QCD_Pt-15to7000_TuneCP5_Flat_13TeV_pythia8/NANOAODSIM/PU2017_12Apr2018_Nano14Dec2018_102X_mc2017_realistic_v6-v1/10000/57F42A2E-A3B5-0C4D-AC24-6B67DE2D9500.root',\n",
    "]"
   ]
  },
  {
   "cell_type": "markdown",
   "metadata": {},
   "source": [
    "## Get a list of the four-vectors from AK4 RECO and GEN jets"
   ]
  },
  {
   "cell_type": "code",
   "execution_count": 3,
   "metadata": {},
   "outputs": [
    {
     "name": "stdout",
     "output_type": "stream",
     "text": [
      "Processing time:  1269.5288473702967 ,  nev:  126\n"
     ]
    }
   ],
   "source": [
    "\n",
    "jet_names = ['Jet_pt', 'Jet_eta', 'Jet_phi', 'Jet_mass']\n",
    "gen_names = ['GenJet_pt', 'GenJet_eta', 'GenJet_phi', 'GenJet_mass']\n",
    "#T = uproot.open(\"/uscms/home/rappocc/nobackup/analysis/B2G/CMSSW_10_2_9/src/Analysis/TTbarAllHad/test/QCD_Pt-15to7000_TuneCP5_Flat_13TeV_pythia8_RunIIFall17NanoAODv4_example.root\")[\"Events\"]\n",
    "rbins = [i * 0.01 for i in range(300)]\n",
    "ptbins = [10,20,30,40,50,60,80,100,150,200,250,300,350,400,500,600,700,800,900,1000]\n",
    "hists = []\n",
    "start_time = time.perf_counter()\n",
    "nev = 0\n",
    "for T in uproot.iterate(files, 'Events', jet_names + gen_names, entrysteps=10000):\n",
    "\n",
    "    Jet_pt = T[b'Jet_pt']\n",
    "    Jet_eta = T[b'Jet_eta']\n",
    "    Jet_phi = T[b'Jet_phi']\n",
    "    Jet_mass = T[b'Jet_mass']\n",
    "    GenJet_pt = T[b'GenJet_pt']\n",
    "    GenJet_eta = T[b'GenJet_eta']\n",
    "    GenJet_phi = T[b'GenJet_phi']\n",
    "    GenJet_mass = T[b'GenJet_mass']\n",
    "\n",
    "\n",
    "    jets = uproot_methods.TLorentzVectorArray.from_ptetaphim(Jet_pt, Jet_eta, Jet_phi, Jet_mass)\n",
    "    genjets = uproot_methods.TLorentzVectorArray.from_ptetaphim(GenJet_pt, GenJet_eta, GenJet_phi, GenJet_mass)\n",
    "    \n",
    "    \n",
    "    goodjets_index = jets.pt > 30.\n",
    "    goodgens_index = genjets.pt > 10.\n",
    "    goodjets = jets[goodjets_index]\n",
    "    goodgens = genjets[goodgens_index]    \n",
    "    \n",
    "    pairing = goodjets.cross(goodgens, nested=True)\n",
    "    metric = pairing.i0.delta_r(pairing.i1)\n",
    "    index_of_minimized = metric.argmin()\n",
    "    passes_cut = (metric[index_of_minimized] < 0.4)\n",
    "    best_pairings_that_pass_cut = pairing[index_of_minimized][passes_cut]\n",
    "    genrecos = best_pairings_that_pass_cut.flatten(axis=1)\n",
    "    \n",
    "\n",
    "    ptresponse = genrecos.i0.pt / genrecos.i1.pt\n",
    "    H,xedges,yedges=np.histogram2d(x=genrecos.i1.pt.flatten(), y=ptresponse.flatten(), bins=[ptbins,rbins])\n",
    "    hists.append(H)\n",
    "    nev += 1\n",
    "    \n",
    "cpu_time = time.perf_counter() - start_time\n",
    "print ('Processing time: ', cpu_time, ',  nev: ', nev) "
   ]
  },
  {
   "cell_type": "code",
   "execution_count": null,
   "metadata": {},
   "outputs": [],
   "source": []
  },
  {
   "cell_type": "code",
   "execution_count": 4,
   "metadata": {},
   "outputs": [],
   "source": [
    "hist = sum( hists )"
   ]
  },
  {
   "cell_type": "markdown",
   "metadata": {},
   "source": [
    "## And plot them\n",
    "\n",
    "NOTE: Not plotting bins with fewer than 10 entries"
   ]
  },
  {
   "cell_type": "code",
   "execution_count": 5,
   "metadata": {},
   "outputs": [],
   "source": [
    "# Set fonts (from https://stackoverflow.com/questions/3899980/how-to-change-the-font-size-on-a-matplotlib-plot)\n",
    "SMALL_SIZE = 14\n",
    "MEDIUM_SIZE = 18\n",
    "BIGGER_SIZE = 24\n",
    "\n",
    "plt.rc('font', size=SMALL_SIZE)          # controls default text sizes\n",
    "plt.rc('axes', titlesize=SMALL_SIZE)     # fontsize of the axes title\n",
    "plt.rc('axes', labelsize=MEDIUM_SIZE)    # fontsize of the x and y labels\n",
    "plt.rc('xtick', labelsize=SMALL_SIZE)    # fontsize of the tick labels\n",
    "plt.rc('ytick', labelsize=SMALL_SIZE)    # fontsize of the tick labels\n",
    "plt.rc('legend', fontsize=SMALL_SIZE)    # legend fontsize\n",
    "plt.rc('figure', titlesize=BIGGER_SIZE)  # fontsize of the figure title"
   ]
  },
  {
   "cell_type": "code",
   "execution_count": null,
   "metadata": {},
   "outputs": [],
   "source": []
  },
  {
   "cell_type": "code",
   "execution_count": 6,
   "metadata": {},
   "outputs": [
    {
     "data": {
      "text/plain": [
       "<matplotlib.collections.QuadMesh at 0x7f2a9d03fa90>"
      ]
     },
     "execution_count": 6,
     "metadata": {},
     "output_type": "execute_result"
    },
    {
     "data": {
      "image/png": "[encoded data removed]",
      "text/plain": [
       "<Figure size 1080x1080 with 1 Axes>"
      ]
     },
     "metadata": {
      "needs_background": "light"
     },
     "output_type": "display_data"
    }
   ],
   "source": [
    "X,Y=np.meshgrid(xedges,yedges)\n",
    "\n",
    "fig = plt.figure(figsize=(15,15))\n",
    "ax = fig.add_subplot(111)\n",
    "X, Y = np.meshgrid(xedges, yedges)\n",
    "ax.pcolormesh(X, Y, hist.T)\n"
   ]
  },
  {
   "cell_type": "code",
   "execution_count": null,
   "metadata": {},
   "outputs": [],
   "source": []
  }
 ],
 "metadata": {
  "kernelspec": {
   "display_name": "Python 3",
   "language": "python",
   "name": "python3"
  },
  "language_info": {
   "codemirror_mode": {
    "name": "ipython",
    "version": 3
   },
   "file_extension": ".py",
   "mimetype": "text/x-python",
   "name": "python",
   "nbconvert_exporter": "python",
   "pygments_lexer": "ipython3",
   "version": "3.6.8"
  }
 },
 "nbformat": 4,
 "nbformat_minor": 2
}
